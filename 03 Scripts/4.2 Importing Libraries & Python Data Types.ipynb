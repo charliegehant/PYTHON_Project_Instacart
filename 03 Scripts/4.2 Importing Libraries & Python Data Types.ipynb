{
 "cells": [
  {
   "cell_type": "markdown",
   "id": "70a95557",
   "metadata": {},
   "source": [
    "# EXERCISE 4.2\n",
    "# Importing Libraries & Python Data Types"
   ]
  },
  {
   "cell_type": "markdown",
   "id": "2211ebb5",
   "metadata": {},
   "source": [
    "#### Table of Content\n",
    "\n",
    "1. Importing Libraries \n",
    "2. Data Types"
   ]
  },
  {
   "cell_type": "markdown",
   "id": "3095f77d",
   "metadata": {},
   "source": [
    "## 1. Importing Libraries"
   ]
  },
  {
   "cell_type": "code",
   "execution_count": 1,
   "id": "0481b098",
   "metadata": {},
   "outputs": [],
   "source": [
    "# Import libraries\n",
    "import pandas as pd\n",
    "import numpy as np\n",
    "import os"
   ]
  },
  {
   "cell_type": "markdown",
   "id": "e87b852d",
   "metadata": {},
   "source": [
    "## 2. Data Types"
   ]
  },
  {
   "cell_type": "code",
   "execution_count": 1,
   "id": "cf9de063",
   "metadata": {},
   "outputs": [],
   "source": [
    "x = 20"
   ]
  },
  {
   "cell_type": "code",
   "execution_count": 2,
   "id": "778b4d1a",
   "metadata": {},
   "outputs": [],
   "source": [
    "y = 80"
   ]
  },
  {
   "cell_type": "code",
   "execution_count": 3,
   "id": "e1708bbc",
   "metadata": {},
   "outputs": [],
   "source": [
    "z = 5"
   ]
  },
  {
   "cell_type": "code",
   "execution_count": 5,
   "id": "6af5ade3",
   "metadata": {},
   "outputs": [
    {
     "data": {
      "text/plain": [
       "100"
      ]
     },
     "execution_count": 5,
     "metadata": {},
     "output_type": "execute_result"
    }
   ],
   "source": [
    "# code 3 different ways of reaching 100 (1 of 3)\n",
    "x + y"
   ]
  },
  {
   "cell_type": "code",
   "execution_count": 6,
   "id": "4a8d618b",
   "metadata": {},
   "outputs": [
    {
     "data": {
      "text/plain": [
       "100"
      ]
     },
     "execution_count": 6,
     "metadata": {},
     "output_type": "execute_result"
    }
   ],
   "source": [
    "# code 3 different ways of reaching 100 (2 of 3)\n",
    "x * z"
   ]
  },
  {
   "cell_type": "code",
   "execution_count": 7,
   "id": "2fb6e414",
   "metadata": {},
   "outputs": [
    {
     "data": {
      "text/plain": [
       "100"
      ]
     },
     "execution_count": 7,
     "metadata": {},
     "output_type": "execute_result"
    }
   ],
   "source": [
    "# code 3 different ways of reaching 100 (3 of 3)\n",
    "y + y - (x * 3)"
   ]
  },
  {
   "cell_type": "code",
   "execution_count": 8,
   "id": "cb6ad4f9",
   "metadata": {},
   "outputs": [],
   "source": [
    "# Code 2 floating-point variables and divide them by each other."
   ]
  },
  {
   "cell_type": "code",
   "execution_count": 9,
   "id": "3b0d31ee",
   "metadata": {},
   "outputs": [],
   "source": [
    "# Floating-point 1 of 2\n",
    "a = 24.324"
   ]
  },
  {
   "cell_type": "code",
   "execution_count": 10,
   "id": "9190f8b1",
   "metadata": {},
   "outputs": [],
   "source": [
    "# Floating-point 2 of 2\n",
    "b = 67.456"
   ]
  },
  {
   "cell_type": "code",
   "execution_count": 11,
   "id": "6116ee0c",
   "metadata": {},
   "outputs": [
    {
     "data": {
      "text/plain": [
       "0.3605906072106262"
      ]
     },
     "execution_count": 11,
     "metadata": {},
     "output_type": "execute_result"
    }
   ],
   "source": [
    "a / b "
   ]
  },
  {
   "cell_type": "code",
   "execution_count": 13,
   "id": "4e1032ec",
   "metadata": {},
   "outputs": [],
   "source": [
    "e = 'snow'"
   ]
  },
  {
   "cell_type": "code",
   "execution_count": 14,
   "id": "058cb565",
   "metadata": {},
   "outputs": [],
   "source": [
    "f = 'ball'"
   ]
  },
  {
   "cell_type": "code",
   "execution_count": 22,
   "id": "07932607",
   "metadata": {},
   "outputs": [
    {
     "data": {
      "text/plain": [
       "'snowball'"
      ]
     },
     "execution_count": 22,
     "metadata": {},
     "output_type": "execute_result"
    }
   ],
   "source": [
    "# Construct a short word made of separate strings\n",
    "e + f"
   ]
  },
  {
   "cell_type": "code",
   "execution_count": 23,
   "id": "c3eaf43d",
   "metadata": {},
   "outputs": [],
   "source": [
    "g = 'I throw a'"
   ]
  },
  {
   "cell_type": "code",
   "execution_count": 24,
   "id": "40b837f9",
   "metadata": {},
   "outputs": [],
   "source": [
    "h = 'at you'"
   ]
  },
  {
   "cell_type": "code",
   "execution_count": 27,
   "id": "9d4e8523",
   "metadata": {},
   "outputs": [
    {
     "name": "stdout",
     "output_type": "stream",
     "text": [
      "I throw a snowball at you\n"
     ]
    }
   ],
   "source": [
    "# Construct 2 short sentences made of separate strings (1 of 2)\n",
    "print(g, (e + f), h)"
   ]
  },
  {
   "cell_type": "code",
   "execution_count": 28,
   "id": "763d6186",
   "metadata": {},
   "outputs": [],
   "source": [
    "i = 'in the air'"
   ]
  },
  {
   "cell_type": "code",
   "execution_count": 31,
   "id": "59bccc29",
   "metadata": {},
   "outputs": [],
   "source": [
    "j = ' '"
   ]
  },
  {
   "cell_type": "code",
   "execution_count": 33,
   "id": "34c09898",
   "metadata": {},
   "outputs": [
    {
     "data": {
      "text/plain": [
       "'I throw a ball in the air'"
      ]
     },
     "execution_count": 33,
     "metadata": {},
     "output_type": "execute_result"
    }
   ],
   "source": [
    "# Construct 2 short sentences made of separate strings (2 of 2)\n",
    "g + j + f + j + i"
   ]
  },
  {
   "cell_type": "code",
   "execution_count": 35,
   "id": "f3700403",
   "metadata": {},
   "outputs": [
    {
     "data": {
      "text/plain": [
       "'snowsnowsnowsnowsnowsnowsnowsnowsnowsnowsnowsnowsnowsnowsnowsnowsnowsnowsnowsnowsnowsnowsnowsnowsnowsnowsnowsnowsnowsnowsnowsnowsnowsnowsnowsnowsnowsnowsnowsnowsnowsnowsnowsnowsnowsnowsnowsnowsnowsnowsnowsnowsnowsnowsnowsnowsnowsnowsnowsnowsnowsnowsnowsnowsnowsnowsnowsnowsnowsnowsnowsnowsnowsnowsnowsnowsnowsnowsnowsnowsnowsnowsnowsnowsnowsnowsnowsnowsnowsnowsnowsnowsnowsnowsnowsnowsnowsnowsnowsnow'"
      ]
     },
     "execution_count": 35,
     "metadata": {},
     "output_type": "execute_result"
    }
   ],
   "source": [
    "# bonus task\n",
    "e * 100"
   ]
  }
 ],
 "metadata": {
  "kernelspec": {
   "display_name": "Python 3 (ipykernel)",
   "language": "python",
   "name": "python3"
  },
  "language_info": {
   "codemirror_mode": {
    "name": "ipython",
    "version": 3
   },
   "file_extension": ".py",
   "mimetype": "text/x-python",
   "name": "python",
   "nbconvert_exporter": "python",
   "pygments_lexer": "ipython3",
   "version": "3.9.7"
  }
 },
 "nbformat": 4,
 "nbformat_minor": 5
}
