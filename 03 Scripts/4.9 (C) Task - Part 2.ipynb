{
 "cells": [
  {
   "cell_type": "markdown",
   "id": "4c2b1cfd",
   "metadata": {},
   "source": [
    "# TASK 4.9 (C)\n",
    "# Part 2"
   ]
  },
  {
   "cell_type": "markdown",
   "id": "e9d8967e",
   "metadata": {},
   "source": [
    "#### Table of Content\n",
    "\n",
    "1. Importing Libraries \n",
    "2. Dataframe\n",
    "3. Checking the Dataframe\n",
    "4. Creating Visualizations\n",
    "5. Exporting Charts"
   ]
  },
  {
   "cell_type": "markdown",
   "id": "362284ed",
   "metadata": {},
   "source": [
    "> ##### D1: Create a new notebook, import the necessary analysis and visualization libraries, then import your most up-to-date project data (i.e., the data set with your new customer data from the first part of this task)."
   ]
  },
  {
   "cell_type": "markdown",
   "id": "012c03af",
   "metadata": {},
   "source": [
    "## 1. Importing Libraries"
   ]
  },
  {
   "cell_type": "code",
   "execution_count": 1,
   "id": "f2134e3a",
   "metadata": {},
   "outputs": [],
   "source": [
    "import pandas as pd\n",
    "import numpy as np\n",
    "import os\n",
    "import matplotlib.pyplot as plt\n",
    "import seaborn as sns\n",
    "import scipy"
   ]
  },
  {
   "cell_type": "markdown",
   "id": "1b168b0e",
   "metadata": {},
   "source": [
    "## 2. Dataframe"
   ]
  },
  {
   "cell_type": "code",
   "execution_count": 2,
   "id": "84210c1e",
   "metadata": {},
   "outputs": [],
   "source": [
    "path = r'/Users/charliegehant/Dropbox/4. Career Foundry/Achievement 4 - Python Fundamentals for Data Analysts/02-2022 Instacart Basket Analysis'"
   ]
  },
  {
   "cell_type": "code",
   "execution_count": 3,
   "id": "186dd3b0",
   "metadata": {},
   "outputs": [
    {
     "data": {
      "text/plain": [
       "'/Users/charliegehant/Dropbox/4. Career Foundry/Achievement 4 - Python Fundamentals for Data Analysts/02-2022 Instacart Basket Analysis'"
      ]
     },
     "execution_count": 3,
     "metadata": {},
     "output_type": "execute_result"
    }
   ],
   "source": [
    "path"
   ]
  },
  {
   "cell_type": "code",
   "execution_count": 4,
   "id": "a5b93d24",
   "metadata": {},
   "outputs": [],
   "source": [
    "# Importing dataframe from part 1\n",
    "df_OPC = pd.read_pickle(os.path.join(path, '02 Data', 'Prepared Data', 'orders_products_customers.pkl'))"
   ]
  },
  {
   "cell_type": "markdown",
   "id": "5ed08dde",
   "metadata": {},
   "source": [
    "## 3. Checking the Dataframe"
   ]
  },
  {
   "cell_type": "code",
   "execution_count": 6,
   "id": "cfe7e1f8",
   "metadata": {},
   "outputs": [
    {
     "data": {
      "text/plain": [
       "(32435059, 36)"
      ]
     },
     "execution_count": 6,
     "metadata": {},
     "output_type": "execute_result"
    }
   ],
   "source": [
    "# Making sure everything looks ok\n",
    "\n",
    "df_OPC.shape"
   ]
  },
  {
   "cell_type": "code",
   "execution_count": 7,
   "id": "9e56fe1a",
   "metadata": {},
   "outputs": [
    {
     "data": {
      "text/html": [
       "<div>\n",
       "<style scoped>\n",
       "    .dataframe tbody tr th:only-of-type {\n",
       "        vertical-align: middle;\n",
       "    }\n",
       "\n",
       "    .dataframe tbody tr th {\n",
       "        vertical-align: top;\n",
       "    }\n",
       "\n",
       "    .dataframe thead th {\n",
       "        text-align: right;\n",
       "    }\n",
       "</style>\n",
       "<table border=\"1\" class=\"dataframe\">\n",
       "  <thead>\n",
       "    <tr style=\"text-align: right;\">\n",
       "      <th></th>\n",
       "      <th>order_id</th>\n",
       "      <th>user_id</th>\n",
       "      <th>eval_set</th>\n",
       "      <th>order_number</th>\n",
       "      <th>orders_day_of_week</th>\n",
       "      <th>order_hour_of_day</th>\n",
       "      <th>days_since_prior_order</th>\n",
       "      <th>product_id</th>\n",
       "      <th>add_to_cart_order</th>\n",
       "      <th>reordered</th>\n",
       "      <th>...</th>\n",
       "      <th>first_name</th>\n",
       "      <th>last_name</th>\n",
       "      <th>gender</th>\n",
       "      <th>state</th>\n",
       "      <th>age</th>\n",
       "      <th>date_joined</th>\n",
       "      <th>n_dependants</th>\n",
       "      <th>income</th>\n",
       "      <th>family_status</th>\n",
       "      <th>user_id_merge</th>\n",
       "    </tr>\n",
       "  </thead>\n",
       "  <tbody>\n",
       "    <tr>\n",
       "      <th>0</th>\n",
       "      <td>2539329</td>\n",
       "      <td>1</td>\n",
       "      <td>prior</td>\n",
       "      <td>1</td>\n",
       "      <td>2</td>\n",
       "      <td>8</td>\n",
       "      <td>0.0</td>\n",
       "      <td>196</td>\n",
       "      <td>1</td>\n",
       "      <td>0</td>\n",
       "      <td>...</td>\n",
       "      <td>Linda</td>\n",
       "      <td>Nguyen</td>\n",
       "      <td>Female</td>\n",
       "      <td>Alabama</td>\n",
       "      <td>31</td>\n",
       "      <td>2/17/2019</td>\n",
       "      <td>3</td>\n",
       "      <td>40423</td>\n",
       "      <td>Married</td>\n",
       "      <td>both</td>\n",
       "    </tr>\n",
       "    <tr>\n",
       "      <th>1</th>\n",
       "      <td>2539329</td>\n",
       "      <td>1</td>\n",
       "      <td>prior</td>\n",
       "      <td>1</td>\n",
       "      <td>2</td>\n",
       "      <td>8</td>\n",
       "      <td>0.0</td>\n",
       "      <td>14084</td>\n",
       "      <td>2</td>\n",
       "      <td>0</td>\n",
       "      <td>...</td>\n",
       "      <td>Linda</td>\n",
       "      <td>Nguyen</td>\n",
       "      <td>Female</td>\n",
       "      <td>Alabama</td>\n",
       "      <td>31</td>\n",
       "      <td>2/17/2019</td>\n",
       "      <td>3</td>\n",
       "      <td>40423</td>\n",
       "      <td>Married</td>\n",
       "      <td>both</td>\n",
       "    </tr>\n",
       "    <tr>\n",
       "      <th>2</th>\n",
       "      <td>2539329</td>\n",
       "      <td>1</td>\n",
       "      <td>prior</td>\n",
       "      <td>1</td>\n",
       "      <td>2</td>\n",
       "      <td>8</td>\n",
       "      <td>0.0</td>\n",
       "      <td>12427</td>\n",
       "      <td>3</td>\n",
       "      <td>0</td>\n",
       "      <td>...</td>\n",
       "      <td>Linda</td>\n",
       "      <td>Nguyen</td>\n",
       "      <td>Female</td>\n",
       "      <td>Alabama</td>\n",
       "      <td>31</td>\n",
       "      <td>2/17/2019</td>\n",
       "      <td>3</td>\n",
       "      <td>40423</td>\n",
       "      <td>Married</td>\n",
       "      <td>both</td>\n",
       "    </tr>\n",
       "    <tr>\n",
       "      <th>3</th>\n",
       "      <td>2539329</td>\n",
       "      <td>1</td>\n",
       "      <td>prior</td>\n",
       "      <td>1</td>\n",
       "      <td>2</td>\n",
       "      <td>8</td>\n",
       "      <td>0.0</td>\n",
       "      <td>26088</td>\n",
       "      <td>4</td>\n",
       "      <td>0</td>\n",
       "      <td>...</td>\n",
       "      <td>Linda</td>\n",
       "      <td>Nguyen</td>\n",
       "      <td>Female</td>\n",
       "      <td>Alabama</td>\n",
       "      <td>31</td>\n",
       "      <td>2/17/2019</td>\n",
       "      <td>3</td>\n",
       "      <td>40423</td>\n",
       "      <td>Married</td>\n",
       "      <td>both</td>\n",
       "    </tr>\n",
       "    <tr>\n",
       "      <th>4</th>\n",
       "      <td>2539329</td>\n",
       "      <td>1</td>\n",
       "      <td>prior</td>\n",
       "      <td>1</td>\n",
       "      <td>2</td>\n",
       "      <td>8</td>\n",
       "      <td>0.0</td>\n",
       "      <td>26405</td>\n",
       "      <td>5</td>\n",
       "      <td>0</td>\n",
       "      <td>...</td>\n",
       "      <td>Linda</td>\n",
       "      <td>Nguyen</td>\n",
       "      <td>Female</td>\n",
       "      <td>Alabama</td>\n",
       "      <td>31</td>\n",
       "      <td>2/17/2019</td>\n",
       "      <td>3</td>\n",
       "      <td>40423</td>\n",
       "      <td>Married</td>\n",
       "      <td>both</td>\n",
       "    </tr>\n",
       "  </tbody>\n",
       "</table>\n",
       "<p>5 rows × 36 columns</p>\n",
       "</div>"
      ],
      "text/plain": [
       "   order_id user_id eval_set  order_number  orders_day_of_week  \\\n",
       "0   2539329       1    prior             1                   2   \n",
       "1   2539329       1    prior             1                   2   \n",
       "2   2539329       1    prior             1                   2   \n",
       "3   2539329       1    prior             1                   2   \n",
       "4   2539329       1    prior             1                   2   \n",
       "\n",
       "   order_hour_of_day  days_since_prior_order  product_id  add_to_cart_order  \\\n",
       "0                  8                     0.0         196                  1   \n",
       "1                  8                     0.0       14084                  2   \n",
       "2                  8                     0.0       12427                  3   \n",
       "3                  8                     0.0       26088                  4   \n",
       "4                  8                     0.0       26405                  5   \n",
       "\n",
       "   reordered  ... first_name last_name  gender    state  age date_joined  \\\n",
       "0          0  ...      Linda    Nguyen  Female  Alabama   31   2/17/2019   \n",
       "1          0  ...      Linda    Nguyen  Female  Alabama   31   2/17/2019   \n",
       "2          0  ...      Linda    Nguyen  Female  Alabama   31   2/17/2019   \n",
       "3          0  ...      Linda    Nguyen  Female  Alabama   31   2/17/2019   \n",
       "4          0  ...      Linda    Nguyen  Female  Alabama   31   2/17/2019   \n",
       "\n",
       "  n_dependants income family_status user_id_merge  \n",
       "0            3  40423       Married          both  \n",
       "1            3  40423       Married          both  \n",
       "2            3  40423       Married          both  \n",
       "3            3  40423       Married          both  \n",
       "4            3  40423       Married          both  \n",
       "\n",
       "[5 rows x 36 columns]"
      ]
     },
     "execution_count": 7,
     "metadata": {},
     "output_type": "execute_result"
    }
   ],
   "source": [
    "df_OPC.head()"
   ]
  },
  {
   "cell_type": "markdown",
   "id": "a17587e0",
   "metadata": {},
   "source": [
    "## 4. Creating Visualizations"
   ]
  },
  {
   "cell_type": "markdown",
   "id": "29d57b92",
   "metadata": {},
   "source": [
    "### 4a. DIRECTION #2"
   ]
  },
  {
   "cell_type": "markdown",
   "id": "717a8aab",
   "metadata": {},
   "source": [
    "> ##### D2: If you haven’t done so already, follow the instructions in the Exercise to create a bar chart, a histogram, a scatterplot, and a line chart, using a sample subset for the line chart."
   ]
  },
  {
   "cell_type": "code",
   "execution_count": 8,
   "id": "c558275e",
   "metadata": {},
   "outputs": [
    {
     "data": {
      "text/plain": [
       "<AxesSubplot:>"
      ]
     },
     "execution_count": 8,
     "metadata": {},
     "output_type": "execute_result"
    },
    {
     "data": {
      "image/png": "[encoded data removed]",
      "text/plain": [
       "<Figure size 432x288 with 1 Axes>"
      ]
     },
     "metadata": {
      "needs_background": "light"
     },
     "output_type": "display_data"
    }
   ],
   "source": [
    "# creating a basic bar chart, according to indexed order (0-6)\n",
    "\n",
    "df_OPC['orders_day_of_week'].value_counts().sort_index().plot.bar()"
   ]
  },
  {
   "cell_type": "code",
   "execution_count": 9,
   "id": "8e513da5",
   "metadata": {},
   "outputs": [
    {
     "data": {
      "text/plain": [
       "<AxesSubplot:ylabel='Frequency'>"
      ]
     },
     "execution_count": 9,
     "metadata": {},
     "output_type": "execute_result"
    },
    {
     "data": {
      "image/png": "[encoded data removed]",
      "text/plain": [
       "<Figure size 432x288 with 1 Axes>"
      ]
     },
     "metadata": {
      "needs_background": "light"
     },
     "output_type": "display_data"
    }
   ],
   "source": [
    "# Attempting to creste a histogram, but there is a problem with outliers\n",
    "\n",
    "df_OPC['prices'].plot.hist(bins = 25)"
   ]
  },
  {
   "cell_type": "code",
   "execution_count": 10,
   "id": "ca207a97",
   "metadata": {},
   "outputs": [
    {
     "data": {
      "text/plain": [
       "count    3.240486e+07\n",
       "mean     1.198023e+01\n",
       "std      4.956554e+02\n",
       "min      1.000000e+00\n",
       "25%      4.200000e+00\n",
       "50%      7.400000e+00\n",
       "75%      1.130000e+01\n",
       "max      9.999900e+04\n",
       "Name: prices, dtype: float64"
      ]
     },
     "execution_count": 10,
     "metadata": {},
     "output_type": "execute_result"
    }
   ],
   "source": [
    "# I can see max price is $99999, which is a lot. \n",
    "# However median (7.40) and mean (1.19) are much lower and seem normal. \n",
    "\n",
    "df_OPC['prices'].describe()"
   ]
  },
  {
   "cell_type": "code",
   "execution_count": 11,
   "id": "722efbb2",
   "metadata": {},
   "outputs": [
    {
     "data": {
      "text/plain": [
       "<AxesSubplot:xlabel='prices', ylabel='prices'>"
      ]
     },
     "execution_count": 11,
     "metadata": {},
     "output_type": "execute_result"
    },
    {
     "data": {
      "image/png": "[encoded data removed]",
      "text/plain": [
       "<Figure size 432x288 with 1 Axes>"
      ]
     },
     "metadata": {
      "needs_background": "light"
     },
     "output_type": "display_data"
    }
   ],
   "source": [
    "# On this scatterplot I can visually see the outlier(s)\n",
    "\n",
    "sns.scatterplot(x = 'prices', y = 'prices',data = df_OPC)"
   ]
  },
  {
   "cell_type": "code",
   "execution_count": 12,
   "id": "dbe0ce70",
   "metadata": {},
   "outputs": [],
   "source": [
    "# I'm isolating any products priced above 100 to solve the issue\n",
    "\n",
    "df_check = df_OPC.loc[df_OPC['prices'] > 100]"
   ]
  },
  {
   "cell_type": "code",
   "execution_count": 13,
   "id": "0106944e",
   "metadata": {},
   "outputs": [
    {
     "data": {
      "text/html": [
       "<div>\n",
       "<style scoped>\n",
       "    .dataframe tbody tr th:only-of-type {\n",
       "        vertical-align: middle;\n",
       "    }\n",
       "\n",
       "    .dataframe tbody tr th {\n",
       "        vertical-align: top;\n",
       "    }\n",
       "\n",
       "    .dataframe thead th {\n",
       "        text-align: right;\n",
       "    }\n",
       "</style>\n",
       "<table border=\"1\" class=\"dataframe\">\n",
       "  <thead>\n",
       "    <tr style=\"text-align: right;\">\n",
       "      <th></th>\n",
       "      <th>prices</th>\n",
       "      <th>product_name</th>\n",
       "    </tr>\n",
       "  </thead>\n",
       "  <tbody>\n",
       "    <tr>\n",
       "      <th>1576</th>\n",
       "      <td>14900.0</td>\n",
       "      <td>Lowfat 2% Milkfat Cottage Cheese</td>\n",
       "    </tr>\n",
       "    <tr>\n",
       "      <th>1638</th>\n",
       "      <td>14900.0</td>\n",
       "      <td>Lowfat 2% Milkfat Cottage Cheese</td>\n",
       "    </tr>\n",
       "    <tr>\n",
       "      <th>16534</th>\n",
       "      <td>14900.0</td>\n",
       "      <td>Lowfat 2% Milkfat Cottage Cheese</td>\n",
       "    </tr>\n",
       "    <tr>\n",
       "      <th>16540</th>\n",
       "      <td>14900.0</td>\n",
       "      <td>Lowfat 2% Milkfat Cottage Cheese</td>\n",
       "    </tr>\n",
       "    <tr>\n",
       "      <th>53712</th>\n",
       "      <td>14900.0</td>\n",
       "      <td>Lowfat 2% Milkfat Cottage Cheese</td>\n",
       "    </tr>\n",
       "  </tbody>\n",
       "</table>\n",
       "</div>"
      ],
      "text/plain": [
       "        prices                      product_name\n",
       "1576   14900.0  Lowfat 2% Milkfat Cottage Cheese\n",
       "1638   14900.0  Lowfat 2% Milkfat Cottage Cheese\n",
       "16534  14900.0  Lowfat 2% Milkfat Cottage Cheese\n",
       "16540  14900.0  Lowfat 2% Milkfat Cottage Cheese\n",
       "53712  14900.0  Lowfat 2% Milkfat Cottage Cheese"
      ]
     },
     "execution_count": 13,
     "metadata": {},
     "output_type": "execute_result"
    }
   ],
   "source": [
    "# Checking the head and tail, here are the culprits..\n",
    "\n",
    "df_check[['prices', 'product_name']].head()"
   ]
  },
  {
   "cell_type": "code",
   "execution_count": 14,
   "id": "b8d181ac",
   "metadata": {},
   "outputs": [
    {
     "data": {
      "text/html": [
       "<div>\n",
       "<style scoped>\n",
       "    .dataframe tbody tr th:only-of-type {\n",
       "        vertical-align: middle;\n",
       "    }\n",
       "\n",
       "    .dataframe tbody tr th {\n",
       "        vertical-align: top;\n",
       "    }\n",
       "\n",
       "    .dataframe thead th {\n",
       "        text-align: right;\n",
       "    }\n",
       "</style>\n",
       "<table border=\"1\" class=\"dataframe\">\n",
       "  <thead>\n",
       "    <tr style=\"text-align: right;\">\n",
       "      <th></th>\n",
       "      <th>prices</th>\n",
       "      <th>product_name</th>\n",
       "    </tr>\n",
       "  </thead>\n",
       "  <tbody>\n",
       "    <tr>\n",
       "      <th>32350634</th>\n",
       "      <td>14900.0</td>\n",
       "      <td>Lowfat 2% Milkfat Cottage Cheese</td>\n",
       "    </tr>\n",
       "    <tr>\n",
       "      <th>32377867</th>\n",
       "      <td>14900.0</td>\n",
       "      <td>Lowfat 2% Milkfat Cottage Cheese</td>\n",
       "    </tr>\n",
       "    <tr>\n",
       "      <th>32377877</th>\n",
       "      <td>14900.0</td>\n",
       "      <td>Lowfat 2% Milkfat Cottage Cheese</td>\n",
       "    </tr>\n",
       "    <tr>\n",
       "      <th>32410707</th>\n",
       "      <td>14900.0</td>\n",
       "      <td>Lowfat 2% Milkfat Cottage Cheese</td>\n",
       "    </tr>\n",
       "    <tr>\n",
       "      <th>32410731</th>\n",
       "      <td>14900.0</td>\n",
       "      <td>Lowfat 2% Milkfat Cottage Cheese</td>\n",
       "    </tr>\n",
       "  </tbody>\n",
       "</table>\n",
       "</div>"
      ],
      "text/plain": [
       "           prices                      product_name\n",
       "32350634  14900.0  Lowfat 2% Milkfat Cottage Cheese\n",
       "32377867  14900.0  Lowfat 2% Milkfat Cottage Cheese\n",
       "32377877  14900.0  Lowfat 2% Milkfat Cottage Cheese\n",
       "32410707  14900.0  Lowfat 2% Milkfat Cottage Cheese\n",
       "32410731  14900.0  Lowfat 2% Milkfat Cottage Cheese"
      ]
     },
     "execution_count": 14,
     "metadata": {},
     "output_type": "execute_result"
    }
   ],
   "source": [
    "df_check[['prices', 'product_name']].tail()"
   ]
  },
  {
   "cell_type": "code",
   "execution_count": 15,
   "id": "1c6ce44f",
   "metadata": {},
   "outputs": [],
   "source": [
    "# Transforming these abnormal values into NaN for now\n",
    "\n",
    "df_OPC.loc[df_OPC['prices'] >100, 'prices'] = np.nan"
   ]
  },
  {
   "cell_type": "code",
   "execution_count": 16,
   "id": "c13b3daf",
   "metadata": {},
   "outputs": [
    {
     "data": {
      "text/plain": [
       "25.0"
      ]
     },
     "execution_count": 16,
     "metadata": {},
     "output_type": "execute_result"
    }
   ],
   "source": [
    "# Now the outliers are gone, the max price is $25, which seems correct\n",
    "\n",
    "df_OPC['prices'].max()"
   ]
  },
  {
   "cell_type": "code",
   "execution_count": 17,
   "id": "50fc8399",
   "metadata": {},
   "outputs": [
    {
     "data": {
      "text/plain": [
       "<AxesSubplot:ylabel='Frequency'>"
      ]
     },
     "execution_count": 17,
     "metadata": {},
     "output_type": "execute_result"
    },
    {
     "data": {
      "image/png": "[encoded data removed]",
      "text/plain": [
       "<Figure size 432x288 with 1 Axes>"
      ]
     },
     "metadata": {
      "needs_background": "light"
     },
     "output_type": "display_data"
    }
   ],
   "source": [
    "# Re-running the histogram query with bins = 25\n",
    "\n",
    "df_OPC['prices'].plot.hist(bins = 25)"
   ]
  },
  {
   "cell_type": "code",
   "execution_count": 18,
   "id": "115cee56",
   "metadata": {},
   "outputs": [
    {
     "data": {
      "text/plain": [
       "<AxesSubplot:ylabel='Frequency'>"
      ]
     },
     "execution_count": 18,
     "metadata": {},
     "output_type": "execute_result"
    },
    {
     "data": {
      "image/png": "[encoded data removed]",
      "text/plain": [
       "<Figure size 432x288 with 1 Axes>"
      ]
     },
     "metadata": {
      "needs_background": "light"
     },
     "output_type": "display_data"
    }
   ],
   "source": [
    "# And with bins = 70\n",
    "\n",
    "df_OPC['prices'].plot.hist(bins = 70)"
   ]
  },
  {
   "cell_type": "code",
   "execution_count": 19,
   "id": "0e7b64ef",
   "metadata": {},
   "outputs": [
    {
     "data": {
      "text/plain": [
       "<AxesSubplot:xlabel='prices', ylabel='prices'>"
      ]
     },
     "execution_count": 19,
     "metadata": {},
     "output_type": "execute_result"
    },
    {
     "data": {
      "image/png": "[encoded data removed]",
      "text/plain": [
       "<Figure size 432x288 with 1 Axes>"
      ]
     },
     "metadata": {
      "needs_background": "light"
     },
     "output_type": "display_data"
    }
   ],
   "source": [
    "sns.scatterplot(x = 'prices', y = 'prices',data = df_OPC)"
   ]
  },
  {
   "cell_type": "code",
   "execution_count": 20,
   "id": "770860a1",
   "metadata": {},
   "outputs": [],
   "source": [
    "# Preparing the data to create a line chart.\n",
    "# Creating a list holding True/False values - randomizing data into 70/30 split (0.7)\n",
    "\n",
    "np.random.seed(4)\n",
    "dev = np.random.rand(len(df_OPC)) <= 0.7"
   ]
  },
  {
   "cell_type": "code",
   "execution_count": 21,
   "id": "603907cd",
   "metadata": {},
   "outputs": [],
   "source": [
    "# Storing 70% of the sample in the dataframe big\n",
    "\n",
    "big = df_OPC[dev]"
   ]
  },
  {
   "cell_type": "code",
   "execution_count": 22,
   "id": "2c98971e",
   "metadata": {},
   "outputs": [],
   "source": [
    "# Storing 30% of the sample in the dataframe small\n",
    "\n",
    "small = df_OPC[~dev]"
   ]
  },
  {
   "cell_type": "code",
   "execution_count": 23,
   "id": "994dc34a",
   "metadata": {},
   "outputs": [
    {
     "data": {
      "text/plain": [
       "(32435059, 36)"
      ]
     },
     "execution_count": 23,
     "metadata": {},
     "output_type": "execute_result"
    }
   ],
   "source": [
    "df_OPC.shape"
   ]
  },
  {
   "cell_type": "code",
   "execution_count": 24,
   "id": "93a18ce2",
   "metadata": {},
   "outputs": [
    {
     "data": {
      "text/plain": [
       "32435059"
      ]
     },
     "execution_count": 24,
     "metadata": {},
     "output_type": "execute_result"
    }
   ],
   "source": [
    "len(df_OPC)"
   ]
  },
  {
   "cell_type": "code",
   "execution_count": 25,
   "id": "c5e43f19",
   "metadata": {},
   "outputs": [
    {
     "data": {
      "text/plain": [
       "22705099"
      ]
     },
     "execution_count": 25,
     "metadata": {},
     "output_type": "execute_result"
    }
   ],
   "source": [
    "# Checking the query\n",
    "\n",
    "len(big)"
   ]
  },
  {
   "cell_type": "code",
   "execution_count": 26,
   "id": "c973a7c6",
   "metadata": {},
   "outputs": [
    {
     "data": {
      "text/plain": [
       "9729960"
      ]
     },
     "execution_count": 26,
     "metadata": {},
     "output_type": "execute_result"
    }
   ],
   "source": [
    "len(small)"
   ]
  },
  {
   "cell_type": "code",
   "execution_count": 27,
   "id": "bd637cec",
   "metadata": {},
   "outputs": [
    {
     "data": {
      "text/plain": [
       "32435059"
      ]
     },
     "execution_count": 27,
     "metadata": {},
     "output_type": "execute_result"
    }
   ],
   "source": [
    "# The big + small subsets are equal to the whole dataframe\n",
    "\n",
    "len(big) + len(small)"
   ]
  },
  {
   "cell_type": "code",
   "execution_count": 28,
   "id": "f19695c1",
   "metadata": {},
   "outputs": [],
   "source": [
    "# Further reducing size of sample df to only two variables to minimize processing load\n",
    "\n",
    "df_OPC_2 = small[['orders_day_of_week','prices']]"
   ]
  },
  {
   "cell_type": "code",
   "execution_count": 29,
   "id": "cc909bbd",
   "metadata": {},
   "outputs": [
    {
     "data": {
      "text/html": [
       "<div>\n",
       "<style scoped>\n",
       "    .dataframe tbody tr th:only-of-type {\n",
       "        vertical-align: middle;\n",
       "    }\n",
       "\n",
       "    .dataframe tbody tr th {\n",
       "        vertical-align: top;\n",
       "    }\n",
       "\n",
       "    .dataframe thead th {\n",
       "        text-align: right;\n",
       "    }\n",
       "</style>\n",
       "<table border=\"1\" class=\"dataframe\">\n",
       "  <thead>\n",
       "    <tr style=\"text-align: right;\">\n",
       "      <th></th>\n",
       "      <th>orders_day_of_week</th>\n",
       "      <th>prices</th>\n",
       "    </tr>\n",
       "  </thead>\n",
       "  <tbody>\n",
       "    <tr>\n",
       "      <th>0</th>\n",
       "      <td>2</td>\n",
       "      <td>9.0</td>\n",
       "    </tr>\n",
       "    <tr>\n",
       "      <th>2</th>\n",
       "      <td>2</td>\n",
       "      <td>4.4</td>\n",
       "    </tr>\n",
       "    <tr>\n",
       "      <th>3</th>\n",
       "      <td>2</td>\n",
       "      <td>4.7</td>\n",
       "    </tr>\n",
       "    <tr>\n",
       "      <th>6</th>\n",
       "      <td>3</td>\n",
       "      <td>3.0</td>\n",
       "    </tr>\n",
       "    <tr>\n",
       "      <th>10</th>\n",
       "      <td>3</td>\n",
       "      <td>4.0</td>\n",
       "    </tr>\n",
       "  </tbody>\n",
       "</table>\n",
       "</div>"
      ],
      "text/plain": [
       "    orders_day_of_week  prices\n",
       "0                    2     9.0\n",
       "2                    2     4.4\n",
       "3                    2     4.7\n",
       "6                    3     3.0\n",
       "10                   3     4.0"
      ]
     },
     "execution_count": 29,
     "metadata": {},
     "output_type": "execute_result"
    }
   ],
   "source": [
    "df_OPC_2.head()"
   ]
  },
  {
   "cell_type": "code",
   "execution_count": 30,
   "id": "9abd071b",
   "metadata": {},
   "outputs": [
    {
     "data": {
      "text/html": [
       "<div>\n",
       "<style scoped>\n",
       "    .dataframe tbody tr th:only-of-type {\n",
       "        vertical-align: middle;\n",
       "    }\n",
       "\n",
       "    .dataframe tbody tr th {\n",
       "        vertical-align: top;\n",
       "    }\n",
       "\n",
       "    .dataframe thead th {\n",
       "        text-align: right;\n",
       "    }\n",
       "</style>\n",
       "<table border=\"1\" class=\"dataframe\">\n",
       "  <thead>\n",
       "    <tr style=\"text-align: right;\">\n",
       "      <th></th>\n",
       "      <th>orders_day_of_week</th>\n",
       "      <th>prices</th>\n",
       "    </tr>\n",
       "  </thead>\n",
       "  <tbody>\n",
       "    <tr>\n",
       "      <th>count</th>\n",
       "      <td>9.729960e+06</td>\n",
       "      <td>9.719281e+06</td>\n",
       "    </tr>\n",
       "    <tr>\n",
       "      <th>mean</th>\n",
       "      <td>2.738543e+00</td>\n",
       "      <td>7.791522e+00</td>\n",
       "    </tr>\n",
       "    <tr>\n",
       "      <th>std</th>\n",
       "      <td>2.089969e+00</td>\n",
       "      <td>4.240544e+00</td>\n",
       "    </tr>\n",
       "    <tr>\n",
       "      <th>min</th>\n",
       "      <td>0.000000e+00</td>\n",
       "      <td>1.000000e+00</td>\n",
       "    </tr>\n",
       "    <tr>\n",
       "      <th>25%</th>\n",
       "      <td>1.000000e+00</td>\n",
       "      <td>4.200000e+00</td>\n",
       "    </tr>\n",
       "    <tr>\n",
       "      <th>50%</th>\n",
       "      <td>3.000000e+00</td>\n",
       "      <td>7.400000e+00</td>\n",
       "    </tr>\n",
       "    <tr>\n",
       "      <th>75%</th>\n",
       "      <td>5.000000e+00</td>\n",
       "      <td>1.130000e+01</td>\n",
       "    </tr>\n",
       "    <tr>\n",
       "      <th>max</th>\n",
       "      <td>6.000000e+00</td>\n",
       "      <td>2.500000e+01</td>\n",
       "    </tr>\n",
       "  </tbody>\n",
       "</table>\n",
       "</div>"
      ],
      "text/plain": [
       "       orders_day_of_week        prices\n",
       "count        9.729960e+06  9.719281e+06\n",
       "mean         2.738543e+00  7.791522e+00\n",
       "std          2.089969e+00  4.240544e+00\n",
       "min          0.000000e+00  1.000000e+00\n",
       "25%          1.000000e+00  4.200000e+00\n",
       "50%          3.000000e+00  7.400000e+00\n",
       "75%          5.000000e+00  1.130000e+01\n",
       "max          6.000000e+00  2.500000e+01"
      ]
     },
     "execution_count": 30,
     "metadata": {},
     "output_type": "execute_result"
    }
   ],
   "source": [
    "# Here I can see the new smaller dataframe is much smaller, but all the core characteristics remain the same\n",
    "\n",
    "df_OPC_2.describe()"
   ]
  },
  {
   "cell_type": "code",
   "execution_count": 31,
   "id": "052a9807",
   "metadata": {},
   "outputs": [
    {
     "data": {
      "text/html": [
       "<div>\n",
       "<style scoped>\n",
       "    .dataframe tbody tr th:only-of-type {\n",
       "        vertical-align: middle;\n",
       "    }\n",
       "\n",
       "    .dataframe tbody tr th {\n",
       "        vertical-align: top;\n",
       "    }\n",
       "\n",
       "    .dataframe thead th {\n",
       "        text-align: right;\n",
       "    }\n",
       "</style>\n",
       "<table border=\"1\" class=\"dataframe\">\n",
       "  <thead>\n",
       "    <tr style=\"text-align: right;\">\n",
       "      <th></th>\n",
       "      <th>orders_day_of_week</th>\n",
       "      <th>prices</th>\n",
       "    </tr>\n",
       "  </thead>\n",
       "  <tbody>\n",
       "    <tr>\n",
       "      <th>count</th>\n",
       "      <td>3.243506e+07</td>\n",
       "      <td>3.239973e+07</td>\n",
       "    </tr>\n",
       "    <tr>\n",
       "      <th>mean</th>\n",
       "      <td>2.738815e+00</td>\n",
       "      <td>7.790994e+00</td>\n",
       "    </tr>\n",
       "    <tr>\n",
       "      <th>std</th>\n",
       "      <td>2.090051e+00</td>\n",
       "      <td>4.241809e+00</td>\n",
       "    </tr>\n",
       "    <tr>\n",
       "      <th>min</th>\n",
       "      <td>0.000000e+00</td>\n",
       "      <td>1.000000e+00</td>\n",
       "    </tr>\n",
       "    <tr>\n",
       "      <th>25%</th>\n",
       "      <td>1.000000e+00</td>\n",
       "      <td>4.200000e+00</td>\n",
       "    </tr>\n",
       "    <tr>\n",
       "      <th>50%</th>\n",
       "      <td>3.000000e+00</td>\n",
       "      <td>7.400000e+00</td>\n",
       "    </tr>\n",
       "    <tr>\n",
       "      <th>75%</th>\n",
       "      <td>5.000000e+00</td>\n",
       "      <td>1.130000e+01</td>\n",
       "    </tr>\n",
       "    <tr>\n",
       "      <th>max</th>\n",
       "      <td>6.000000e+00</td>\n",
       "      <td>2.500000e+01</td>\n",
       "    </tr>\n",
       "  </tbody>\n",
       "</table>\n",
       "</div>"
      ],
      "text/plain": [
       "       orders_day_of_week        prices\n",
       "count        3.243506e+07  3.239973e+07\n",
       "mean         2.738815e+00  7.790994e+00\n",
       "std          2.090051e+00  4.241809e+00\n",
       "min          0.000000e+00  1.000000e+00\n",
       "25%          1.000000e+00  4.200000e+00\n",
       "50%          3.000000e+00  7.400000e+00\n",
       "75%          5.000000e+00  1.130000e+01\n",
       "max          6.000000e+00  2.500000e+01"
      ]
     },
     "execution_count": 31,
     "metadata": {},
     "output_type": "execute_result"
    }
   ],
   "source": [
    "# Compairing new snall dataframe with original one; the only difference is in the count of values. \n",
    "\n",
    "df_OPC[['orders_day_of_week','prices']].describe()"
   ]
  },
  {
   "cell_type": "code",
   "execution_count": 32,
   "id": "1922ba6d",
   "metadata": {},
   "outputs": [
    {
     "data": {
      "image/png": "[encoded data removed]",
      "text/plain": [
       "<Figure size 432x288 with 1 Axes>"
      ]
     },
     "metadata": {
      "needs_background": "light"
     },
     "output_type": "display_data"
    }
   ],
   "source": [
    "# Creating a line chart exploring the relationship between orders by day of the week by average prices\n",
    "\n",
    "line = sns.lineplot(data = df_OPC_2, x = 'orders_day_of_week', y = 'prices')"
   ]
  },
  {
   "cell_type": "code",
   "execution_count": 38,
   "id": "e884336f",
   "metadata": {},
   "outputs": [
    {
     "data": {
      "text/html": [
       "<div>\n",
       "<style scoped>\n",
       "    .dataframe tbody tr th:only-of-type {\n",
       "        vertical-align: middle;\n",
       "    }\n",
       "\n",
       "    .dataframe tbody tr th {\n",
       "        vertical-align: top;\n",
       "    }\n",
       "\n",
       "    .dataframe thead tr th {\n",
       "        text-align: left;\n",
       "    }\n",
       "\n",
       "    .dataframe thead tr:last-of-type th {\n",
       "        text-align: right;\n",
       "    }\n",
       "</style>\n",
       "<table border=\"1\" class=\"dataframe\">\n",
       "  <thead>\n",
       "    <tr>\n",
       "      <th></th>\n",
       "      <th colspan=\"4\" halign=\"left\">prices</th>\n",
       "    </tr>\n",
       "    <tr>\n",
       "      <th></th>\n",
       "      <th>sum</th>\n",
       "      <th>mean</th>\n",
       "      <th>median</th>\n",
       "      <th>count</th>\n",
       "    </tr>\n",
       "    <tr>\n",
       "      <th>orders_day_of_week</th>\n",
       "      <th></th>\n",
       "      <th></th>\n",
       "      <th></th>\n",
       "      <th></th>\n",
       "    </tr>\n",
       "  </thead>\n",
       "  <tbody>\n",
       "    <tr>\n",
       "      <th>0</th>\n",
       "      <td>48743215.0</td>\n",
       "      <td>7.857590</td>\n",
       "      <td>7.5</td>\n",
       "      <td>6203329</td>\n",
       "    </tr>\n",
       "    <tr>\n",
       "      <th>1</th>\n",
       "      <td>43914435.4</td>\n",
       "      <td>7.759697</td>\n",
       "      <td>7.3</td>\n",
       "      <td>5659298</td>\n",
       "    </tr>\n",
       "    <tr>\n",
       "      <th>2</th>\n",
       "      <td>32669718.5</td>\n",
       "      <td>7.754309</td>\n",
       "      <td>7.3</td>\n",
       "      <td>4213105</td>\n",
       "    </tr>\n",
       "    <tr>\n",
       "      <th>3</th>\n",
       "      <td>29787695.9</td>\n",
       "      <td>7.757485</td>\n",
       "      <td>7.3</td>\n",
       "      <td>3839865</td>\n",
       "    </tr>\n",
       "    <tr>\n",
       "      <th>4</th>\n",
       "      <td>29343126.6</td>\n",
       "      <td>7.756223</td>\n",
       "      <td>7.3</td>\n",
       "      <td>3783172</td>\n",
       "    </tr>\n",
       "    <tr>\n",
       "      <th>5</th>\n",
       "      <td>32641807.1</td>\n",
       "      <td>7.762477</td>\n",
       "      <td>7.3</td>\n",
       "      <td>4205076</td>\n",
       "    </tr>\n",
       "    <tr>\n",
       "      <th>6</th>\n",
       "      <td>35326122.1</td>\n",
       "      <td>7.857431</td>\n",
       "      <td>7.5</td>\n",
       "      <td>4495887</td>\n",
       "    </tr>\n",
       "  </tbody>\n",
       "</table>\n",
       "</div>"
      ],
      "text/plain": [
       "                        prices                          \n",
       "                           sum      mean median    count\n",
       "orders_day_of_week                                      \n",
       "0                   48743215.0  7.857590    7.5  6203329\n",
       "1                   43914435.4  7.759697    7.3  5659298\n",
       "2                   32669718.5  7.754309    7.3  4213105\n",
       "3                   29787695.9  7.757485    7.3  3839865\n",
       "4                   29343126.6  7.756223    7.3  3783172\n",
       "5                   32641807.1  7.762477    7.3  4205076\n",
       "6                   35326122.1  7.857431    7.5  4495887"
      ]
     },
     "execution_count": 38,
     "metadata": {},
     "output_type": "execute_result"
    }
   ],
   "source": [
    "# Checking the results in a numerical form (I can see they correlate)\n",
    "\n",
    "df_OPC.groupby('orders_day_of_week').agg({'prices': ['sum', 'mean', 'median', 'count']})"
   ]
  },
  {
   "cell_type": "markdown",
   "id": "94f8bb8f",
   "metadata": {},
   "source": [
    "### 4b. DIRECTION #3"
   ]
  },
  {
   "cell_type": "markdown",
   "id": "d234f48e",
   "metadata": {},
   "source": [
    "> ##### D3: You need to provide the Instacart senior stakeholders with descriptive findings about sales. Create a histogram of the “order_hour_of_day” column. In a markdown cell beneath your histogram, describe what the histogram demonstrates."
   ]
  },
  {
   "cell_type": "code",
   "execution_count": 42,
   "id": "42dca132",
   "metadata": {},
   "outputs": [
    {
     "data": {
      "text/plain": [
       "<AxesSubplot:ylabel='Frequency'>"
      ]
     },
     "execution_count": 42,
     "metadata": {},
     "output_type": "execute_result"
    },
    {
     "data": {
      "image/png": "[encoded data removed]",
      "text/plain": [
       "<Figure size 432x288 with 1 Axes>"
      ]
     },
     "metadata": {
      "needs_background": "light"
     },
     "output_type": "display_data"
    }
   ],
   "source": [
    "# Creating the histogram requested with 24 bins (24 hours in a day). \n",
    "\n",
    "df_OPC['order_hour_of_day'].plot.hist(bins = 24)"
   ]
  },
  {
   "cell_type": "code",
   "execution_count": 43,
   "id": "c1c0dc63",
   "metadata": {},
   "outputs": [
    {
     "data": {
      "text/plain": [
       "<AxesSubplot:ylabel='Frequency'>"
      ]
     },
     "execution_count": 43,
     "metadata": {},
     "output_type": "execute_result"
    },
    {
     "data": {
      "image/png": "[encoded data removed]",
      "text/plain": [
       "<Figure size 432x288 with 1 Axes>"
      ]
     },
     "metadata": {
      "needs_background": "light"
     },
     "output_type": "display_data"
    }
   ],
   "source": [
    "# Creating the histogram requested with 48 bins (24 x2), to have a clearer view of what's happening. \n",
    "\n",
    "df_OPC['order_hour_of_day'].plot.hist(bins = 48)"
   ]
  },
  {
   "cell_type": "code",
   "execution_count": 44,
   "id": "b81b8136",
   "metadata": {},
   "outputs": [
    {
     "data": {
      "text/plain": [
       "10    2764476\n",
       "11    2738647\n",
       "14    2691598\n",
       "15    2664583\n",
       "13    2663346\n",
       "12    2620898\n",
       "16    2537506\n",
       "9     2456751\n",
       "17    2089510\n",
       "8     1719991\n",
       "18    1637956\n",
       "19    1259416\n",
       "20     977049\n",
       "7      891951\n",
       "21     796379\n",
       "22     634743\n",
       "23     402621\n",
       "6      290796\n",
       "0      218951\n",
       "1      115787\n",
       "5       88064\n",
       "2       69435\n",
       "4       53284\n",
       "3       51321\n",
       "Name: order_hour_of_day, dtype: int64"
      ]
     },
     "execution_count": 44,
     "metadata": {},
     "output_type": "execute_result"
    }
   ],
   "source": [
    "# Double checking the values on a numerical level\n",
    "\n",
    "df_OPC['order_hour_of_day'].value_counts(dropna = False)"
   ]
  },
  {
   "cell_type": "markdown",
   "id": "b86820b9",
   "metadata": {},
   "source": [
    "### Descriptive findings about sales: \n",
    "##### > The Histogram demonstrates that most of the orders happen between 9am - 4pm, with a slight dip around lunch time (12pm)\n",
    "##### > The busiest time for orders is between 10am-11am\n",
    "##### > The quietest time for orders is between 3am-4am\n",
    "##### > The sales decrease rapidly after 4pm, somewhat surprinsgly there is no sales increase around dinner time / after work time. "
   ]
  },
  {
   "cell_type": "markdown",
   "id": "68955df4",
   "metadata": {},
   "source": [
    "### 4c. DIRECTION #4"
   ]
  },
  {
   "cell_type": "markdown",
   "id": "36bbb532",
   "metadata": {},
   "source": [
    "> ##### D4: The marketing team is curious about the distribution of orders among customers in terms of loyalty. Create a bar chart from the “loyalty_flag” column."
   ]
  },
  {
   "cell_type": "code",
   "execution_count": 45,
   "id": "d7ba3110",
   "metadata": {},
   "outputs": [
    {
     "data": {
      "text/html": [
       "<div>\n",
       "<style scoped>\n",
       "    .dataframe tbody tr th:only-of-type {\n",
       "        vertical-align: middle;\n",
       "    }\n",
       "\n",
       "    .dataframe tbody tr th {\n",
       "        vertical-align: top;\n",
       "    }\n",
       "\n",
       "    .dataframe thead th {\n",
       "        text-align: right;\n",
       "    }\n",
       "</style>\n",
       "<table border=\"1\" class=\"dataframe\">\n",
       "  <thead>\n",
       "    <tr style=\"text-align: right;\">\n",
       "      <th></th>\n",
       "      <th>user_id</th>\n",
       "      <th>loyalty_flag</th>\n",
       "    </tr>\n",
       "  </thead>\n",
       "  <tbody>\n",
       "    <tr>\n",
       "      <th>0</th>\n",
       "      <td>1</td>\n",
       "      <td>New customer</td>\n",
       "    </tr>\n",
       "    <tr>\n",
       "      <th>1</th>\n",
       "      <td>1</td>\n",
       "      <td>New customer</td>\n",
       "    </tr>\n",
       "    <tr>\n",
       "      <th>2</th>\n",
       "      <td>1</td>\n",
       "      <td>New customer</td>\n",
       "    </tr>\n",
       "    <tr>\n",
       "      <th>3</th>\n",
       "      <td>1</td>\n",
       "      <td>New customer</td>\n",
       "    </tr>\n",
       "    <tr>\n",
       "      <th>4</th>\n",
       "      <td>1</td>\n",
       "      <td>New customer</td>\n",
       "    </tr>\n",
       "  </tbody>\n",
       "</table>\n",
       "</div>"
      ],
      "text/plain": [
       "  user_id  loyalty_flag\n",
       "0       1  New customer\n",
       "1       1  New customer\n",
       "2       1  New customer\n",
       "3       1  New customer\n",
       "4       1  New customer"
      ]
     },
     "execution_count": 45,
     "metadata": {},
     "output_type": "execute_result"
    }
   ],
   "source": [
    "df_OPC[['user_id','loyalty_flag']].head()"
   ]
  },
  {
   "cell_type": "code",
   "execution_count": 46,
   "id": "79e0b7be",
   "metadata": {},
   "outputs": [
    {
     "data": {
      "text/plain": [
       "<AxesSubplot:>"
      ]
     },
     "execution_count": 46,
     "metadata": {},
     "output_type": "execute_result"
    },
    {
     "data": {
      "image/png": "[encoded data removed]",
      "text/plain": [
       "<Figure size 432x288 with 1 Axes>"
      ]
     },
     "metadata": {
      "needs_background": "light"
     },
     "output_type": "display_data"
    }
   ],
   "source": [
    "df_OPC['loyalty_flag'].value_counts().plot.bar()"
   ]
  },
  {
   "cell_type": "code",
   "execution_count": 47,
   "id": "b0e8d6ce",
   "metadata": {},
   "outputs": [
    {
     "data": {
      "text/plain": [
       "Regular customer    15891507\n",
       "Loyal customer      10294027\n",
       "New customer         6249525\n",
       "Name: loyalty_flag, dtype: int64"
      ]
     },
     "execution_count": 47,
     "metadata": {},
     "output_type": "execute_result"
    }
   ],
   "source": [
    "df_OPC['loyalty_flag'].value_counts()"
   ]
  },
  {
   "cell_type": "markdown",
   "id": "f67fc5a7",
   "metadata": {},
   "source": [
    "### 4d. DIRECTION #5"
   ]
  },
  {
   "cell_type": "markdown",
   "id": "f0734229",
   "metadata": {},
   "source": [
    "> ##### D5: Check whether there’s a difference in expenditure (the “prices” column) depending on the hour of the day. (Hint: To check this, you need to use an accurate sample for your line chart!)"
   ]
  },
  {
   "cell_type": "code",
   "execution_count": 48,
   "id": "b628a266",
   "metadata": {},
   "outputs": [],
   "source": [
    "# Further reducing size of sample df to only the two variables I need\n",
    "\n",
    "df_OPC_3 = small[['order_hour_of_day','prices']]"
   ]
  },
  {
   "cell_type": "code",
   "execution_count": 49,
   "id": "5bf756e0",
   "metadata": {},
   "outputs": [
    {
     "data": {
      "image/png": "[encoded data removed]",
      "text/plain": [
       "<Figure size 432x288 with 1 Axes>"
      ]
     },
     "metadata": {
      "needs_background": "light"
     },
     "output_type": "display_data"
    }
   ],
   "source": [
    "# Creating a line chart \n",
    "# The more expensive items are sold at night and the cheapest between 9am-10am\n",
    "\n",
    "line2 = sns.lineplot(data = df_OPC_3, x = 'order_hour_of_day', y = 'prices')"
   ]
  },
  {
   "cell_type": "code",
   "execution_count": 56,
   "id": "6363a427",
   "metadata": {},
   "outputs": [
    {
     "data": {
      "text/html": [
       "<div>\n",
       "<style scoped>\n",
       "    .dataframe tbody tr th:only-of-type {\n",
       "        vertical-align: middle;\n",
       "    }\n",
       "\n",
       "    .dataframe tbody tr th {\n",
       "        vertical-align: top;\n",
       "    }\n",
       "\n",
       "    .dataframe thead tr th {\n",
       "        text-align: left;\n",
       "    }\n",
       "\n",
       "    .dataframe thead tr:last-of-type th {\n",
       "        text-align: right;\n",
       "    }\n",
       "</style>\n",
       "<table border=\"1\" class=\"dataframe\">\n",
       "  <thead>\n",
       "    <tr>\n",
       "      <th></th>\n",
       "      <th colspan=\"4\" halign=\"left\">prices</th>\n",
       "    </tr>\n",
       "    <tr>\n",
       "      <th></th>\n",
       "      <th>sum</th>\n",
       "      <th>mean</th>\n",
       "      <th>median</th>\n",
       "      <th>count</th>\n",
       "    </tr>\n",
       "    <tr>\n",
       "      <th>order_hour_of_day</th>\n",
       "      <th></th>\n",
       "      <th></th>\n",
       "      <th></th>\n",
       "      <th></th>\n",
       "    </tr>\n",
       "  </thead>\n",
       "  <tbody>\n",
       "    <tr>\n",
       "      <th>0</th>\n",
       "      <td>1708627.1</td>\n",
       "      <td>7.811152</td>\n",
       "      <td>7.4</td>\n",
       "      <td>218742</td>\n",
       "    </tr>\n",
       "    <tr>\n",
       "      <th>1</th>\n",
       "      <td>902987.5</td>\n",
       "      <td>7.805706</td>\n",
       "      <td>7.4</td>\n",
       "      <td>115683</td>\n",
       "    </tr>\n",
       "    <tr>\n",
       "      <th>2</th>\n",
       "      <td>540953.3</td>\n",
       "      <td>7.799211</td>\n",
       "      <td>7.4</td>\n",
       "      <td>69360</td>\n",
       "    </tr>\n",
       "    <tr>\n",
       "      <th>3</th>\n",
       "      <td>401331.1</td>\n",
       "      <td>7.828101</td>\n",
       "      <td>7.5</td>\n",
       "      <td>51268</td>\n",
       "    </tr>\n",
       "    <tr>\n",
       "      <th>4</th>\n",
       "      <td>417265.0</td>\n",
       "      <td>7.838612</td>\n",
       "      <td>7.5</td>\n",
       "      <td>53232</td>\n",
       "    </tr>\n",
       "    <tr>\n",
       "      <th>5</th>\n",
       "      <td>688439.9</td>\n",
       "      <td>7.828162</td>\n",
       "      <td>7.5</td>\n",
       "      <td>87944</td>\n",
       "    </tr>\n",
       "    <tr>\n",
       "      <th>6</th>\n",
       "      <td>2270680.7</td>\n",
       "      <td>7.817802</td>\n",
       "      <td>7.4</td>\n",
       "      <td>290450</td>\n",
       "    </tr>\n",
       "    <tr>\n",
       "      <th>7</th>\n",
       "      <td>6967055.9</td>\n",
       "      <td>7.820043</td>\n",
       "      <td>7.4</td>\n",
       "      <td>890923</td>\n",
       "    </tr>\n",
       "    <tr>\n",
       "      <th>8</th>\n",
       "      <td>13383026.7</td>\n",
       "      <td>7.790509</td>\n",
       "      <td>7.4</td>\n",
       "      <td>1717863</td>\n",
       "    </tr>\n",
       "    <tr>\n",
       "      <th>9</th>\n",
       "      <td>19026013.7</td>\n",
       "      <td>7.753561</td>\n",
       "      <td>7.3</td>\n",
       "      <td>2453842</td>\n",
       "    </tr>\n",
       "    <tr>\n",
       "      <th>10</th>\n",
       "      <td>21399997.5</td>\n",
       "      <td>7.749879</td>\n",
       "      <td>7.3</td>\n",
       "      <td>2761333</td>\n",
       "    </tr>\n",
       "    <tr>\n",
       "      <th>11</th>\n",
       "      <td>21261917.8</td>\n",
       "      <td>7.772038</td>\n",
       "      <td>7.3</td>\n",
       "      <td>2735694</td>\n",
       "    </tr>\n",
       "    <tr>\n",
       "      <th>12</th>\n",
       "      <td>20392992.7</td>\n",
       "      <td>7.789222</td>\n",
       "      <td>7.4</td>\n",
       "      <td>2618104</td>\n",
       "    </tr>\n",
       "    <tr>\n",
       "      <th>13</th>\n",
       "      <td>20734933.8</td>\n",
       "      <td>7.793418</td>\n",
       "      <td>7.4</td>\n",
       "      <td>2660570</td>\n",
       "    </tr>\n",
       "    <tr>\n",
       "      <th>14</th>\n",
       "      <td>20979668.4</td>\n",
       "      <td>7.802823</td>\n",
       "      <td>7.4</td>\n",
       "      <td>2688728</td>\n",
       "    </tr>\n",
       "    <tr>\n",
       "      <th>15</th>\n",
       "      <td>20777235.8</td>\n",
       "      <td>7.805949</td>\n",
       "      <td>7.4</td>\n",
       "      <td>2661718</td>\n",
       "    </tr>\n",
       "    <tr>\n",
       "      <th>16</th>\n",
       "      <td>19777858.5</td>\n",
       "      <td>7.802705</td>\n",
       "      <td>7.4</td>\n",
       "      <td>2534744</td>\n",
       "    </tr>\n",
       "    <tr>\n",
       "      <th>17</th>\n",
       "      <td>16294342.6</td>\n",
       "      <td>7.806522</td>\n",
       "      <td>7.4</td>\n",
       "      <td>2087273</td>\n",
       "    </tr>\n",
       "    <tr>\n",
       "      <th>18</th>\n",
       "      <td>12778651.1</td>\n",
       "      <td>7.809833</td>\n",
       "      <td>7.4</td>\n",
       "      <td>1636226</td>\n",
       "    </tr>\n",
       "    <tr>\n",
       "      <th>19</th>\n",
       "      <td>9805648.8</td>\n",
       "      <td>7.794163</td>\n",
       "      <td>7.4</td>\n",
       "      <td>1258076</td>\n",
       "    </tr>\n",
       "    <tr>\n",
       "      <th>20</th>\n",
       "      <td>7613150.3</td>\n",
       "      <td>7.800359</td>\n",
       "      <td>7.4</td>\n",
       "      <td>976000</td>\n",
       "    </tr>\n",
       "    <tr>\n",
       "      <th>21</th>\n",
       "      <td>6209527.7</td>\n",
       "      <td>7.805543</td>\n",
       "      <td>7.4</td>\n",
       "      <td>795528</td>\n",
       "    </tr>\n",
       "    <tr>\n",
       "      <th>22</th>\n",
       "      <td>4957118.0</td>\n",
       "      <td>7.816838</td>\n",
       "      <td>7.4</td>\n",
       "      <td>634159</td>\n",
       "    </tr>\n",
       "    <tr>\n",
       "      <th>23</th>\n",
       "      <td>3136696.7</td>\n",
       "      <td>7.797452</td>\n",
       "      <td>7.4</td>\n",
       "      <td>402272</td>\n",
       "    </tr>\n",
       "  </tbody>\n",
       "</table>\n",
       "</div>"
      ],
      "text/plain": [
       "                       prices                          \n",
       "                          sum      mean median    count\n",
       "order_hour_of_day                                      \n",
       "0                   1708627.1  7.811152    7.4   218742\n",
       "1                    902987.5  7.805706    7.4   115683\n",
       "2                    540953.3  7.799211    7.4    69360\n",
       "3                    401331.1  7.828101    7.5    51268\n",
       "4                    417265.0  7.838612    7.5    53232\n",
       "5                    688439.9  7.828162    7.5    87944\n",
       "6                   2270680.7  7.817802    7.4   290450\n",
       "7                   6967055.9  7.820043    7.4   890923\n",
       "8                  13383026.7  7.790509    7.4  1717863\n",
       "9                  19026013.7  7.753561    7.3  2453842\n",
       "10                 21399997.5  7.749879    7.3  2761333\n",
       "11                 21261917.8  7.772038    7.3  2735694\n",
       "12                 20392992.7  7.789222    7.4  2618104\n",
       "13                 20734933.8  7.793418    7.4  2660570\n",
       "14                 20979668.4  7.802823    7.4  2688728\n",
       "15                 20777235.8  7.805949    7.4  2661718\n",
       "16                 19777858.5  7.802705    7.4  2534744\n",
       "17                 16294342.6  7.806522    7.4  2087273\n",
       "18                 12778651.1  7.809833    7.4  1636226\n",
       "19                  9805648.8  7.794163    7.4  1258076\n",
       "20                  7613150.3  7.800359    7.4   976000\n",
       "21                  6209527.7  7.805543    7.4   795528\n",
       "22                  4957118.0  7.816838    7.4   634159\n",
       "23                  3136696.7  7.797452    7.4   402272"
      ]
     },
     "execution_count": 56,
     "metadata": {},
     "output_type": "execute_result"
    }
   ],
   "source": [
    "df_OPC.groupby('order_hour_of_day').agg({'prices': ['sum', 'mean', 'median', 'count']})"
   ]
  },
  {
   "cell_type": "markdown",
   "id": "23d727bd",
   "metadata": {},
   "source": [
    "### 4e. DIRECTION #6"
   ]
  },
  {
   "cell_type": "markdown",
   "id": "c3f5afe3",
   "metadata": {},
   "source": [
    "> ##### D6: Now that you have information about customers, you need to conduct some exploratory analysis of customer demographics to inform the targeted marketing campaigns. First, determine whether there’s a connection between age and family status by creating a line chart exploring the connections between age and number of dependents:\n",
    "In a markdown cell beneath your line chart, describe what the line chart shows."
   ]
  },
  {
   "cell_type": "code",
   "execution_count": 61,
   "id": "44a4fdde",
   "metadata": {},
   "outputs": [
    {
     "data": {
      "text/html": [
       "<div>\n",
       "<style scoped>\n",
       "    .dataframe tbody tr th:only-of-type {\n",
       "        vertical-align: middle;\n",
       "    }\n",
       "\n",
       "    .dataframe tbody tr th {\n",
       "        vertical-align: top;\n",
       "    }\n",
       "\n",
       "    .dataframe thead th {\n",
       "        text-align: right;\n",
       "    }\n",
       "</style>\n",
       "<table border=\"1\" class=\"dataframe\">\n",
       "  <thead>\n",
       "    <tr style=\"text-align: right;\">\n",
       "      <th></th>\n",
       "      <th>order_id</th>\n",
       "      <th>user_id</th>\n",
       "      <th>eval_set</th>\n",
       "      <th>order_number</th>\n",
       "      <th>orders_day_of_week</th>\n",
       "      <th>order_hour_of_day</th>\n",
       "      <th>days_since_prior_order</th>\n",
       "      <th>product_id</th>\n",
       "      <th>add_to_cart_order</th>\n",
       "      <th>reordered</th>\n",
       "      <th>...</th>\n",
       "      <th>first_name</th>\n",
       "      <th>last_name</th>\n",
       "      <th>gender</th>\n",
       "      <th>state</th>\n",
       "      <th>age</th>\n",
       "      <th>date_joined</th>\n",
       "      <th>n_dependants</th>\n",
       "      <th>income</th>\n",
       "      <th>family_status</th>\n",
       "      <th>user_id_merge</th>\n",
       "    </tr>\n",
       "  </thead>\n",
       "  <tbody>\n",
       "    <tr>\n",
       "      <th>0</th>\n",
       "      <td>2539329</td>\n",
       "      <td>1</td>\n",
       "      <td>prior</td>\n",
       "      <td>1</td>\n",
       "      <td>2</td>\n",
       "      <td>8</td>\n",
       "      <td>0.0</td>\n",
       "      <td>196</td>\n",
       "      <td>1</td>\n",
       "      <td>0</td>\n",
       "      <td>...</td>\n",
       "      <td>Linda</td>\n",
       "      <td>Nguyen</td>\n",
       "      <td>Female</td>\n",
       "      <td>Alabama</td>\n",
       "      <td>31</td>\n",
       "      <td>2/17/2019</td>\n",
       "      <td>3</td>\n",
       "      <td>40423</td>\n",
       "      <td>Married</td>\n",
       "      <td>both</td>\n",
       "    </tr>\n",
       "    <tr>\n",
       "      <th>1</th>\n",
       "      <td>2539329</td>\n",
       "      <td>1</td>\n",
       "      <td>prior</td>\n",
       "      <td>1</td>\n",
       "      <td>2</td>\n",
       "      <td>8</td>\n",
       "      <td>0.0</td>\n",
       "      <td>14084</td>\n",
       "      <td>2</td>\n",
       "      <td>0</td>\n",
       "      <td>...</td>\n",
       "      <td>Linda</td>\n",
       "      <td>Nguyen</td>\n",
       "      <td>Female</td>\n",
       "      <td>Alabama</td>\n",
       "      <td>31</td>\n",
       "      <td>2/17/2019</td>\n",
       "      <td>3</td>\n",
       "      <td>40423</td>\n",
       "      <td>Married</td>\n",
       "      <td>both</td>\n",
       "    </tr>\n",
       "    <tr>\n",
       "      <th>2</th>\n",
       "      <td>2539329</td>\n",
       "      <td>1</td>\n",
       "      <td>prior</td>\n",
       "      <td>1</td>\n",
       "      <td>2</td>\n",
       "      <td>8</td>\n",
       "      <td>0.0</td>\n",
       "      <td>12427</td>\n",
       "      <td>3</td>\n",
       "      <td>0</td>\n",
       "      <td>...</td>\n",
       "      <td>Linda</td>\n",
       "      <td>Nguyen</td>\n",
       "      <td>Female</td>\n",
       "      <td>Alabama</td>\n",
       "      <td>31</td>\n",
       "      <td>2/17/2019</td>\n",
       "      <td>3</td>\n",
       "      <td>40423</td>\n",
       "      <td>Married</td>\n",
       "      <td>both</td>\n",
       "    </tr>\n",
       "    <tr>\n",
       "      <th>3</th>\n",
       "      <td>2539329</td>\n",
       "      <td>1</td>\n",
       "      <td>prior</td>\n",
       "      <td>1</td>\n",
       "      <td>2</td>\n",
       "      <td>8</td>\n",
       "      <td>0.0</td>\n",
       "      <td>26088</td>\n",
       "      <td>4</td>\n",
       "      <td>0</td>\n",
       "      <td>...</td>\n",
       "      <td>Linda</td>\n",
       "      <td>Nguyen</td>\n",
       "      <td>Female</td>\n",
       "      <td>Alabama</td>\n",
       "      <td>31</td>\n",
       "      <td>2/17/2019</td>\n",
       "      <td>3</td>\n",
       "      <td>40423</td>\n",
       "      <td>Married</td>\n",
       "      <td>both</td>\n",
       "    </tr>\n",
       "    <tr>\n",
       "      <th>4</th>\n",
       "      <td>2539329</td>\n",
       "      <td>1</td>\n",
       "      <td>prior</td>\n",
       "      <td>1</td>\n",
       "      <td>2</td>\n",
       "      <td>8</td>\n",
       "      <td>0.0</td>\n",
       "      <td>26405</td>\n",
       "      <td>5</td>\n",
       "      <td>0</td>\n",
       "      <td>...</td>\n",
       "      <td>Linda</td>\n",
       "      <td>Nguyen</td>\n",
       "      <td>Female</td>\n",
       "      <td>Alabama</td>\n",
       "      <td>31</td>\n",
       "      <td>2/17/2019</td>\n",
       "      <td>3</td>\n",
       "      <td>40423</td>\n",
       "      <td>Married</td>\n",
       "      <td>both</td>\n",
       "    </tr>\n",
       "  </tbody>\n",
       "</table>\n",
       "<p>5 rows × 36 columns</p>\n",
       "</div>"
      ],
      "text/plain": [
       "   order_id user_id eval_set  order_number  orders_day_of_week  \\\n",
       "0   2539329       1    prior             1                   2   \n",
       "1   2539329       1    prior             1                   2   \n",
       "2   2539329       1    prior             1                   2   \n",
       "3   2539329       1    prior             1                   2   \n",
       "4   2539329       1    prior             1                   2   \n",
       "\n",
       "   order_hour_of_day  days_since_prior_order  product_id  add_to_cart_order  \\\n",
       "0                  8                     0.0         196                  1   \n",
       "1                  8                     0.0       14084                  2   \n",
       "2                  8                     0.0       12427                  3   \n",
       "3                  8                     0.0       26088                  4   \n",
       "4                  8                     0.0       26405                  5   \n",
       "\n",
       "   reordered  ... first_name last_name  gender    state  age date_joined  \\\n",
       "0          0  ...      Linda    Nguyen  Female  Alabama   31   2/17/2019   \n",
       "1          0  ...      Linda    Nguyen  Female  Alabama   31   2/17/2019   \n",
       "2          0  ...      Linda    Nguyen  Female  Alabama   31   2/17/2019   \n",
       "3          0  ...      Linda    Nguyen  Female  Alabama   31   2/17/2019   \n",
       "4          0  ...      Linda    Nguyen  Female  Alabama   31   2/17/2019   \n",
       "\n",
       "  n_dependants income family_status user_id_merge  \n",
       "0            3  40423       Married          both  \n",
       "1            3  40423       Married          both  \n",
       "2            3  40423       Married          both  \n",
       "3            3  40423       Married          both  \n",
       "4            3  40423       Married          both  \n",
       "\n",
       "[5 rows x 36 columns]"
      ]
     },
     "execution_count": 61,
     "metadata": {},
     "output_type": "execute_result"
    }
   ],
   "source": [
    "df_OPC.head()"
   ]
  },
  {
   "cell_type": "code",
   "execution_count": 62,
   "id": "8c2ac163",
   "metadata": {},
   "outputs": [],
   "source": [
    "# Further reducing size of sample df to only the two variables I need\n",
    "\n",
    "df_OPC_4 = small[['age','n_dependants']]"
   ]
  },
  {
   "cell_type": "code",
   "execution_count": 63,
   "id": "f2cbe7d5",
   "metadata": {},
   "outputs": [
    {
     "data": {
      "image/png": "[encoded data removed]",
      "text/plain": [
       "<Figure size 432x288 with 1 Axes>"
      ]
     },
     "metadata": {
      "needs_background": "light"
     },
     "output_type": "display_data"
    }
   ],
   "source": [
    "# Creating a line chart to explore the relationship between age and number of dependants. \n",
    "\n",
    "line3 = sns.lineplot(data = df_OPC_4, x = 'age', y = 'n_dependants')"
   ]
  },
  {
   "cell_type": "markdown",
   "id": "d1f5a019",
   "metadata": {},
   "source": [
    "> <i> >> There is no clear relationship between age and number of dependants. "
   ]
  },
  {
   "cell_type": "markdown",
   "id": "ef86d899",
   "metadata": {},
   "source": [
    "### 4f. DIRECTION #7"
   ]
  },
  {
   "cell_type": "markdown",
   "id": "3d7b3b5f",
   "metadata": {},
   "source": [
    "> ##### D7: You’ll also need to explore whether there’s a connection between age and spending power. To visualize this relationship, create a scatterplot using the sns.scatterplot() function.\n",
    "In a markdown cell beneath your scatterplot, describe what the scatterplot shows.\n"
   ]
  },
  {
   "cell_type": "code",
   "execution_count": 64,
   "id": "191a3209",
   "metadata": {},
   "outputs": [
    {
     "data": {
      "text/plain": [
       "<AxesSubplot:xlabel='age', ylabel='income'>"
      ]
     },
     "execution_count": 64,
     "metadata": {},
     "output_type": "execute_result"
    },
    {
     "data": {
      "image/png": "[encoded data removed]",
      "text/plain": [
       "<Figure size 432x288 with 1 Axes>"
      ]
     },
     "metadata": {
      "needs_background": "light"
     },
     "output_type": "display_data"
    }
   ],
   "source": [
    "# Creating a scatterplot to explore the relationship between age and income. \n",
    "\n",
    "sns.scatterplot(x = 'age', y = 'income',data = df_OPC)"
   ]
  },
  {
   "cell_type": "markdown",
   "id": "7d821e26",
   "metadata": {},
   "source": [
    "> <i> There is a connection between age and spending power. The age range 20-40 has less spending power than 40+ years old. Although it makes sense that older people have greater incomes (more settled into their careers / more experience), it is a bit odd how much salaries seem to abruptly jump from 40 years old onwards. Especially the top left corner, a blank rectangle without a single outlier. "
   ]
  },
  {
   "cell_type": "markdown",
   "id": "78169ea1",
   "metadata": {},
   "source": [
    "## 5. Exporting Charts"
   ]
  },
  {
   "cell_type": "markdown",
   "id": "0ab418ed",
   "metadata": {},
   "source": [
    "> ##### D8: Export your visualizations as “.png” files in your relevant project folder."
   ]
  },
  {
   "cell_type": "code",
   "execution_count": 65,
   "id": "9ae0cde0",
   "metadata": {},
   "outputs": [
    {
     "data": {
      "image/png": "[encoded data removed]",
      "text/plain": [
       "<Figure size 432x288 with 1 Axes>"
      ]
     },
     "metadata": {
      "needs_background": "light"
     },
     "output_type": "display_data"
    }
   ],
   "source": [
    "# Re-creating and naming bar chart to prepare for export\n",
    "\n",
    "bar_orders_dow = df_OPC['orders_day_of_week'].value_counts().sort_index().plot.bar()"
   ]
  },
  {
   "cell_type": "code",
   "execution_count": 66,
   "id": "aada53c5",
   "metadata": {},
   "outputs": [],
   "source": [
    "# Exporting bar chart\n",
    "\n",
    "bar_orders_dow.figure.savefig(os.path.join(path, '04 Analysis','Visualizations', 'bar_orders_dow.png'))"
   ]
  },
  {
   "cell_type": "code",
   "execution_count": 67,
   "id": "bdf79820",
   "metadata": {},
   "outputs": [
    {
     "data": {
      "image/png": "[encoded data removed]",
      "text/plain": [
       "<Figure size 432x288 with 1 Axes>"
      ]
     },
     "metadata": {
      "needs_background": "light"
     },
     "output_type": "display_data"
    }
   ],
   "source": [
    "# Re-creating and naming histogram to prepare for export\n",
    "\n",
    "hist_prices = df_OPC['prices'].plot.hist(bins = 70)"
   ]
  },
  {
   "cell_type": "code",
   "execution_count": 68,
   "id": "2d67f57b",
   "metadata": {},
   "outputs": [],
   "source": [
    "# Exporting histogram\n",
    "\n",
    "hist_prices.figure.savefig(os.path.join(path, '04 Analysis','Visualizations', 'hist_prices.png'))"
   ]
  },
  {
   "cell_type": "code",
   "execution_count": 69,
   "id": "afb5ed22",
   "metadata": {},
   "outputs": [],
   "source": [
    "# Saving the line chart named 'line'\n",
    "\n",
    "line.figure.savefig(os.path.join(path, '04 Analysis','Visualizations', 'line_ords_dow_prices.png'))"
   ]
  },
  {
   "cell_type": "code",
   "execution_count": 70,
   "id": "a0a89010",
   "metadata": {},
   "outputs": [
    {
     "data": {
      "image/png": "[encoded data removed]",
      "text/plain": [
       "<Figure size 432x288 with 1 Axes>"
      ]
     },
     "metadata": {
      "needs_background": "light"
     },
     "output_type": "display_data"
    }
   ],
   "source": [
    "# Re-creating and naming histogram to prepare for export\n",
    "\n",
    "hist_ords_hod_b48 = df_OPC['order_hour_of_day'].plot.hist(bins = 48)"
   ]
  },
  {
   "cell_type": "code",
   "execution_count": 71,
   "id": "b51fa5b6",
   "metadata": {},
   "outputs": [],
   "source": [
    "# Exporting histogram\n",
    "\n",
    "hist_ords_hod_b48.figure.savefig(os.path.join(path, '04 Analysis','Visualizations', 'hist_ords_hod_b48.png'))"
   ]
  },
  {
   "cell_type": "code",
   "execution_count": 72,
   "id": "3754e0f3",
   "metadata": {},
   "outputs": [
    {
     "data": {
      "image/png": "[encoded data removed]",
      "text/plain": [
       "<Figure size 432x288 with 1 Axes>"
      ]
     },
     "metadata": {
      "needs_background": "light"
     },
     "output_type": "display_data"
    }
   ],
   "source": [
    "# Re-creating and naming histogram to prepare for export\n",
    "\n",
    "hist_ords_hod_b24 = df_OPC['order_hour_of_day'].plot.hist(bins = 24)"
   ]
  },
  {
   "cell_type": "code",
   "execution_count": 73,
   "id": "e5c8c70a",
   "metadata": {},
   "outputs": [],
   "source": [
    "# Exporting histogram\n",
    "\n",
    "hist_ords_hod_b24.figure.savefig(os.path.join(path, '04 Analysis','Visualizations', 'hist_ords_hod_b24.png'))"
   ]
  },
  {
   "cell_type": "code",
   "execution_count": 74,
   "id": "af44c8e2",
   "metadata": {
    "scrolled": true
   },
   "outputs": [
    {
     "data": {
      "image/png": "[encoded data removed]",
      "text/plain": [
       "<Figure size 432x288 with 1 Axes>"
      ]
     },
     "metadata": {
      "needs_background": "light"
     },
     "output_type": "display_data"
    }
   ],
   "source": [
    "# Re-creating and naming histogram to prepare for export\n",
    "\n",
    "bar_loy_flag = df_OPC['loyalty_flag'].value_counts().plot.bar()"
   ]
  },
  {
   "cell_type": "code",
   "execution_count": 75,
   "id": "82e4ff0b",
   "metadata": {},
   "outputs": [],
   "source": [
    "# Exporting bar chart\n",
    "\n",
    "bar_loy_flag.figure.savefig(os.path.join(path, '04 Analysis','Visualizations', 'bar_loy_flag.png'))"
   ]
  },
  {
   "cell_type": "code",
   "execution_count": 76,
   "id": "74e32ac7",
   "metadata": {},
   "outputs": [],
   "source": [
    "# Exporting the line chart named 'line2'\n",
    "\n",
    "line2.figure.savefig(os.path.join(path, '04 Analysis','Visualizations', 'line_ords_how_prices.png'))"
   ]
  },
  {
   "cell_type": "code",
   "execution_count": 77,
   "id": "3b0d0494",
   "metadata": {},
   "outputs": [],
   "source": [
    "# Exporting the line chart named 'line3'\n",
    "\n",
    "line3.figure.savefig(os.path.join(path, '04 Analysis','Visualizations', 'line_age_dependants.png'))"
   ]
  },
  {
   "cell_type": "code",
   "execution_count": 78,
   "id": "60cc62d7",
   "metadata": {},
   "outputs": [
    {
     "data": {
      "image/png": "[encoded data removed]",
      "text/plain": [
       "<Figure size 432x288 with 1 Axes>"
      ]
     },
     "metadata": {
      "needs_background": "light"
     },
     "output_type": "display_data"
    }
   ],
   "source": [
    "# Re-creating and naming scatterplot to prepare for export\n",
    "\n",
    "scat_age_income = sns.scatterplot(x = 'age', y = 'income',data = df_OPC)"
   ]
  },
  {
   "cell_type": "code",
   "execution_count": 79,
   "id": "e7f00264",
   "metadata": {},
   "outputs": [],
   "source": [
    "# Exporting the scatterplot\n",
    "\n",
    "scat_age_income.figure.savefig(os.path.join(path, '04 Analysis','Visualizations', 'scat_age_income.png'))"
   ]
  }
 ],
 "metadata": {
  "kernelspec": {
   "display_name": "Python 3 (ipykernel)",
   "language": "python",
   "name": "python3"
  },
  "language_info": {
   "codemirror_mode": {
    "name": "ipython",
    "version": 3
   },
   "file_extension": ".py",
   "mimetype": "text/x-python",
   "name": "python",
   "nbconvert_exporter": "python",
   "pygments_lexer": "ipython3",
   "version": "3.9.7"
  }
 },
 "nbformat": 4,
 "nbformat_minor": 5
}
